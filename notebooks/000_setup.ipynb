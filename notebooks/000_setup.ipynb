{
 "cells": [
  {
   "cell_type": "code",
   "execution_count": null,
   "id": "9533bad8",
   "metadata": {},
   "outputs": [],
   "source": [
    "from pathlib import Path\n",
    "import os, sys, json, zipfile, glob, shutil, subprocess\n",
    "\n",
    "ROOT = Path(\"..\").resolve()\n",
    "INPUT = ROOT / \"input\"\n",
    "WORK = ROOT / \"working\"\n",
    "SUB = ROOT / \"submissions\"\n",
    "for p in [INPUT, WORK, SUB]:\n",
    "    p.mkdir(parents=True, exist_ok=True)\n",
    "\n",
    "# ここにコンペの slug を入れる（例: 'house-prices-advanced-regression-techniques'）\n",
    "COMPETITION = \"\"  # ← 必ず設定\n",
    "assert COMPETITION, \"COMPETITION を設定してください\"\n",
    "print(\"COMPETITION:\", COMPETITION)"
   ]
  },
  {
   "cell_type": "code",
   "execution_count": null,
   "id": "31db7222",
   "metadata": {},
   "outputs": [],
   "source": [
    "# kaggle CLI が利用可能かチェック\n",
    "!kaggle -h >/dev/null 2>&1 || echo \"kaggle CLI が見つかりません。Dev Container 内で実行してください。\"\n",
    "\n",
    "# 既存zipの削除（任意）\n",
    "for z in glob.glob(str(INPUT / \"*.zip\")):\n",
    "    os.remove(z)\n",
    "\n",
    "# ダウンロード & 解凍\n",
    "!kaggle competitions download -c {COMPETITION} -p {str(INPUT)}\n",
    "!python - << 'PY'\n",
    "import zipfile, glob, os\n",
    "from pathlib import Path\n",
    "inp = Path(\"../input\").resolve()\n",
    "for z in glob.glob(str(inp/\"*.zip\")):\n",
    "    with zipfile.ZipFile(z) as f:\n",
    "        f.extractall(inp)\n",
    "PY\n",
    "\n",
    "# 中身確認\n",
    "!ls -lah {str(INPUT)} | head -n 50"
   ]
  }
 ],
 "metadata": {
  "language_info": {
   "name": "python"
  }
 },
 "nbformat": 4,
 "nbformat_minor": 5
}
