{
 "cells": [
  {
   "cell_type": "code",
   "execution_count": null,
   "id": "f73745b7",
   "metadata": {},
   "outputs": [],
   "source": [
    "import numpy as np, pandas as pd, pickle, glob\n",
    "from pathlib import Path\n",
    "\n",
    "ROOT = Path(\"..\").resolve(); INPUT = ROOT/\"input\"; WORK = ROOT/\"working\"; SUB = ROOT/\"submissions\"\n",
    "SUB.mkdir(exist_ok=True, parents=True)\n",
    "\n",
    "ID_COL = \"id\"      # コンペ仕様に合わせて\n",
    "TARGET = \"target\"  # 提出列名（要調整）\n",
    "\n",
    "models = sorted(glob.glob(str(WORK/\"model_fold*.pkl\")))\n",
    "assert models, \"working/ に保存済みモデルがありません。020_train.ipynb を先に実行してください。\"\n",
    "print(models)"
   ]
  },
  {
   "cell_type": "code",
   "execution_count": null,
   "id": "f2178b05",
   "metadata": {},
   "outputs": [],
   "source": [
    "test = pd.read_csv(INPUT/\"test.csv\")\n",
    "X_test = test.drop(columns=[c for c in [TARGET] if c in test.columns])\n",
    "\n",
    "# 分類/回帰の区別なく .predict を平均（最小実装）\n",
    "preds = []\n",
    "for mp in models:\n",
    "    with open(mp, 'rb') as f:\n",
    "        m = pickle.load(f)\n",
    "    preds.append(m.predict(X_test))\n",
    "\n",
    "import numpy as np\n",
    "pred = np.mean(np.vstack(preds), axis=0)\n",
    "\n",
    "sub = pd.DataFrame({\n",
    "    ID_COL if ID_COL in test.columns else 'id': test[ID_COL] if ID_COL in test.columns else range(len(test)),\n",
    "    TARGET: pred\n",
    "})\n",
    "\n",
    "out_p = SUB/\"submission.csv\"\n",
    "sub.to_csv(out_p, index=False)\n",
    "print(\"saved ->\", out_p)\n",
    "sub.head()"
   ]
  }
 ],
 "metadata": {
  "language_info": {
   "name": "python"
  }
 },
 "nbformat": 4,
 "nbformat_minor": 5
}
