{
 "cells": [
  {
   "cell_type": "code",
   "execution_count": null,
   "id": "e325ed0f",
   "metadata": {},
   "outputs": [],
   "source": [
    "import pandas as pd\n",
    "from pathlib import Path\n",
    "ROOT = Path(\"..\").resolve()\n",
    "INPUT = ROOT / \"input\"\n",
    "\n",
    "train_p = INPUT / \"train.csv\"\n",
    "test_p = INPUT / \"test.csv\"\n",
    "\n",
    "if train_p.exists():\n",
    "    train = pd.read_csv(train_p)\n",
    "    display(train.head())\n",
    "    display(train.describe(include=\"all\"))\n",
    "    print(\"train shape:\", train.shape)\n",
    "else:\n",
    "    print(\"train.csv not found\")\n",
    "\n",
    "if test_p.exists():\n",
    "    test = pd.read_csv(test_p)\n",
    "    display(test.head())\n",
    "    print(\"test shape:\", test.shape)\n",
    "else:\n",
    "    print(\"test.csv not found\")"
   ]
  },
  {
   "cell_type": "code",
   "execution_count": null,
   "id": "52e98672",
   "metadata": {},
   "outputs": [],
   "source": [
    "TARGET = \"target\"  # コンペ仕様に合わせて変更\n",
    "if 'train' in globals() and TARGET not in train.columns:\n",
    "    raise ValueError(f\"TARGET '{TARGET}' が train にありません。列名を合わせてください。\")"
   ]
  }
 ],
 "metadata": {
  "language_info": {
   "name": "python"
  }
 },
 "nbformat": 4,
 "nbformat_minor": 5
}
